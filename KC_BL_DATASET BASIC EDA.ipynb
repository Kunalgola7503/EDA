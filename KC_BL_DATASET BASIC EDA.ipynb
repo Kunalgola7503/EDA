{
 "cells": [
  {
   "cell_type": "code",
   "execution_count": 1,
   "id": "0462da86",
   "metadata": {},
   "outputs": [],
   "source": [
    "import pandas as pd\n",
    "import numpy as np\n",
    "import matplotlib.pyplot as plt\n",
    "import seaborn as sns\n",
    "\n",
    "pd.set_option('display.max_columns', None)\n",
    "sns.set_style(\"whitegrid\")\n",
    "\n",
    "df = pd.read_csv(r\"C:\\Users\\user\\Downloads\\KC_BL_DATASET.csv\")\n",
    "df.head()\n"
   ]
  },
  {
   "cell_type": "code",
   "execution_count": 2,
   "metadata": {},
   "outputs": [],
   "source": [
    "print(\"Shape:\", df.shape)\n",
    "print(\"\\nInfo:\")\n",
    "print(df.info())\n",
    "print(\"\\nSummary Statistics:\")\n",
    "print(df.describe(include=\"all\"))\n"
   ]
  },
  {
   "cell_type": "code",
   "execution_count": 3,
   "id": "23208f47",
   "metadata": {},
   "outputs": [],
   "source": [
    "print(\"Missing Values:\\n\", df.isnull().sum())\n",
    "print(\"\\nMissing %:\\n\", (df.isnull().mean()*100).round(2))\n",
    "print(\"\\nDuplicate Rows:\", df.duplicated().sum())\n"
   ]
  },
  {
   "cell_type": "code",
   "execution_count": 4,
   "id": "cefa18c2",
   "metadata": {},
   "outputs": [],
   "source": [
    "# Numerical distributions\n",
    "df.hist(figsize=(12,8), bins=30)\n",
    "plt.suptitle(\"Numerical Feature Distributions\", fontsize=14)\n",
    "plt.show()\n",
    "\n",
    "# Categorical distributions\n",
    "for col in df.select_dtypes(include=[\"object\"]).columns:\n",
    "    plt.figure(figsize=(6,4))\n",
    "    sns.countplot(x=col, data=df, palette=\"Set2\")\n",
    "    plt.title(f\"Count Plot of {col}\")\n",
    "    plt.xticks(rotation=45)\n",
    "    plt.show()\n"
   ]
  },
  {
   "cell_type": "code",
   "execution_count": null,
   "id": "42be5fda",
   "metadata": {},
   "outputs": [],
   "source": [
    "plt.figure(figsize=(10,6))\n",
    "sns.heatmap(df.corr(numeric_only=True), annot=True, cmap=\"coolwarm\", fmt=\".2f\")\n",
    "plt.title(\"Correlation Heatmap\")\n",
    "plt.show()\n"
   ]
  },
  {
   "cell_type": "code",
   "execution_count": null,
   "id": "1d22afe4",
   "metadata": {},
   "outputs": [],
   "source": [
    "categorical_cols = df.select_dtypes(include=[\"object\"]).columns\n",
    "\n",
    "for col in categorical_cols:\n",
    "    for num_col in df.select_dtypes(include=np.number).columns:\n",
    "        plt.figure(figsize=(6,4))\n",
    "        sns.boxplot(x=col, y=num_col, data=df, palette=\"Set3\")\n",
    "        plt.title(f\"{num_col} by {col}\")\n",
    "        plt.xticks(rotation=45)\n",
    "        plt.show()\n"
   ]
  },
  {
   "cell_type": "code",
   "execution_count": null,
   "id": "ad88dfeb",
   "metadata": {},
   "outputs": [],
   "source": [
    "for col in df.select_dtypes(include=np.number).columns:\n",
    "    plt.figure(figsize=(6,4))\n",
    "    sns.boxplot(x=df[col], color=\"orange\")\n",
    "    plt.title(f\"Boxplot of {col}\")\n",
    "    plt.show()\n"
   ]
  },
  {
   "cell_type": "code",
   "execution_count": null,
   "id": "c93694ac",
   "metadata": {},
   "outputs": [],
   "source": [
    "print(f\" Final EDA Insights\")\n",
    "print(f\"1. Dataset contains {df.shape[0]} rows and {df.shape[1]} columns.\")\n",
    "print(f\"2. Missing values detected in {df.isnull().any().sum()} columns.\")\n",
    "print(f\"3. Duplicate rows: {df.duplicated().sum()}\")\n",
    "print(f\"4. Numerical features show varied distributions (see histograms).\")\n",
    "print(f\"5. Some categorical features are imbalanced (count plots).\")\n",
    "print(f\"6. Correlations highlight relationships between numeric variables.\")\n",
    "print(f\"7. Outliers present in certain numerical columns (boxplots).\")\n"
   ]
  },
  {
   "cell_type": "code",
   "execution_count": null,
   "id": "3bc986fa",
   "metadata": {},
   "outputs": [],
   "source": []
  }
 ],
 "metadata": {
  "kernelspec": {
   "display_name": "Python 3",
   "language": "python",
   "name": "python3"
  },
  "language_info": {
   "codemirror_mode": {
    "name": "ipython",
    "version": 3
   },
   "file_extension": ".py",
   "mimetype": "text/x-python",
   "name": "python",
   "nbconvert_exporter": "python",
   "pygments_lexer": "ipython3",
   "version": "3.13.5"
  }
 },
 "nbformat": 4,
 "nbformat_minor": 5
}
